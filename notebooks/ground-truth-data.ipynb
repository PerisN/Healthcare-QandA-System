{
 "cells": [
  {
   "cell_type": "code",
   "execution_count": 20,
   "metadata": {},
   "outputs": [],
   "source": [
    "# Import Libraries\n",
    "\n",
    "import os\n",
    "import json\n",
    "import hashlib\n",
    "from collections import defaultdict\n",
    "import openai\n",
    "from openai import OpenAI\n",
    "from tqdm.auto import tqdm\n",
    "import pandas as pd"
   ]
  },
  {
   "cell_type": "code",
   "execution_count": 2,
   "metadata": {},
   "outputs": [],
   "source": [
    "# Load JSON file\n",
    "\n",
    "documents = []\n",
    "with open('../data/data.json', 'r') as file:\n",
    "    for line in file:\n",
    "        documents.append(json.loads(line))"
   ]
  },
  {
   "cell_type": "code",
   "execution_count": 3,
   "metadata": {},
   "outputs": [
    {
     "data": {
      "text/plain": [
       "{'question': 'What is (are) Acquired Cystic Kidney Disease ?',\n",
       " 'answer': \"Acquired cystic kidney disease happens when a person's kidneys develop fluid-filled sacs, called cysts, over time. Acquired cystic kidney disease is not the same as polycystic kidney disease (PKD), another disease that causes the kidneys to develop multiple cysts.\\n                \\nAcquired cystic kidney disease occurs in children and adults who have\\n                \\n- chronic kidney disease (CKD)a condition that develops over many years and may lead to end-stage kidney disease, or ESRD. The kidneys of people with CKD gradually lose their ability to filter wastes, extra salt, and fluid from the blood properly.  - end-stage kidney diseasetotal and permanent kidney failure that requires a kidney transplant or blood-filtering treatments called dialysis.\\n                \\nThe cysts are more likely to develop in people who are on kidney dialysis. The chance of developing acquired cystic kidney disease increases with the number of years a person is on dialysis. However, the cysts are caused by CKD or kidney failure, not dialysis treatments.\\n                \\nMore information is provided in the NIDDK health topics, kidney failureand dialysis.\",\n",
       " 'source': 'NIDDK',\n",
       " 'focus_area': 'Acquired Cystic Kidney Disease'}"
      ]
     },
     "execution_count": 3,
     "metadata": {},
     "output_type": "execute_result"
    }
   ],
   "source": [
    "documents[5]"
   ]
  },
  {
   "cell_type": "code",
   "execution_count": 4,
   "metadata": {},
   "outputs": [],
   "source": [
    "def generate_document_id(doc):\n",
    "    combined = f\"{doc['question']}-{doc['answer']}-{doc['source']}-{doc['focus_area'][:10]}\"\n",
    "    hash_object = hashlib.md5(combined.encode())\n",
    "    hash_hex = hash_object.hexdigest()\n",
    "    document_id = hash_hex[:8]\n",
    "    return document_id"
   ]
  },
  {
   "cell_type": "code",
   "execution_count": 5,
   "metadata": {},
   "outputs": [
    {
     "data": {
      "text/plain": [
       "{'question': 'What is (are) Acquired Cystic Kidney Disease ?',\n",
       " 'answer': \"Acquired cystic kidney disease happens when a person's kidneys develop fluid-filled sacs, called cysts, over time. Acquired cystic kidney disease is not the same as polycystic kidney disease (PKD), another disease that causes the kidneys to develop multiple cysts.\\n                \\nAcquired cystic kidney disease occurs in children and adults who have\\n                \\n- chronic kidney disease (CKD)a condition that develops over many years and may lead to end-stage kidney disease, or ESRD. The kidneys of people with CKD gradually lose their ability to filter wastes, extra salt, and fluid from the blood properly.  - end-stage kidney diseasetotal and permanent kidney failure that requires a kidney transplant or blood-filtering treatments called dialysis.\\n                \\nThe cysts are more likely to develop in people who are on kidney dialysis. The chance of developing acquired cystic kidney disease increases with the number of years a person is on dialysis. However, the cysts are caused by CKD or kidney failure, not dialysis treatments.\\n                \\nMore information is provided in the NIDDK health topics, kidney failureand dialysis.\",\n",
       " 'source': 'NIDDK',\n",
       " 'focus_area': 'Acquired Cystic Kidney Disease',\n",
       " 'id': '1c704eab'}"
      ]
     },
     "execution_count": 5,
     "metadata": {},
     "output_type": "execute_result"
    }
   ],
   "source": [
    "# Generate IDs for each document\n",
    "\n",
    "for doc in documents:\n",
    "    doc['id'] = generate_document_id(doc)\n",
    "\n",
    "documents[5]"
   ]
  },
  {
   "cell_type": "code",
   "execution_count": 6,
   "metadata": {},
   "outputs": [
    {
     "data": {
      "text/plain": [
       "(292, 292)"
      ]
     },
     "execution_count": 6,
     "metadata": {},
     "output_type": "execute_result"
    }
   ],
   "source": [
    "# Create a defaultdict to store documents by ID\n",
    "hashes = defaultdict(list)\n",
    "\n",
    "# Group documents by their ID\n",
    "for index,doc in enumerate(documents):\n",
    "    doc_id = doc['id']\n",
    "    hashes[doc_id].append(doc)\n",
    "\n",
    "len(hashes), len(documents)"
   ]
  },
  {
   "cell_type": "code",
   "execution_count": 7,
   "metadata": {},
   "outputs": [],
   "source": [
    "with open('../data/data-with-ids.json', 'wt') as f_out:\n",
    "    json.dump(documents, f_out, indent=2)"
   ]
  },
  {
   "cell_type": "code",
   "execution_count": 8,
   "metadata": {},
   "outputs": [],
   "source": [
    "# Generate the prompt \n",
    "\n",
    "prompt_template = \"\"\"\n",
    "You emulate a user of our health assistant application.\n",
    "Formulate 5 questions this user might ask based on a disease.\n",
    "Make the questions specific to this disease.\n",
    "The record should contain the answer to the questions, and the questions should\n",
    "be complete and not too short. Use as fewer words as possible from the record. \n",
    "\n",
    "The record:\n",
    "\n",
    "question: {question}\n",
    "answer: {answer}\n",
    "source: {source}\n",
    "focus_area: {focus_area}\n",
    "\n",
    "Provide the output in parsable JSON without using code blocks:\n",
    "\n",
    "{{\"questions\": [\"question1\", \"question2\", ..., \"question5\"]}}\n",
    "\"\"\".strip()"
   ]
  },
  {
   "cell_type": "code",
   "execution_count": 9,
   "metadata": {},
   "outputs": [],
   "source": [
    "prompt = prompt_template.format(**documents[5])"
   ]
  },
  {
   "cell_type": "code",
   "execution_count": null,
   "metadata": {
    "scrolled": true
   },
   "outputs": [],
   "source": [
    "api_key = os.getenv(\"OPENAI_API_KEY\")"
   ]
  },
  {
   "cell_type": "code",
   "execution_count": 11,
   "metadata": {},
   "outputs": [],
   "source": [
    "# Initializing OPENAI client\n",
    "client = OpenAI()\n",
    "\n",
    "def llm(prompt):\n",
    "    response = client.chat.completions.create(\n",
    "        model='gpt-4o-mini',\n",
    "        messages=[{\"role\": \"user\", \"content\": prompt}]\n",
    "    )\n",
    "    \n",
    "    return response.choices[0].message.content"
   ]
  },
  {
   "cell_type": "code",
   "execution_count": 13,
   "metadata": {},
   "outputs": [
    {
     "data": {
      "text/plain": [
       "{'questions': ['What does acquired cystic kidney disease entail in terms of kidney function and the development of cysts?',\n",
       "  'How does acquired cystic kidney disease differ from polycystic kidney disease?',\n",
       "  'What are the primary causes that lead to the development of acquired cystic kidney disease?',\n",
       "  'How does the duration of dialysis treatment influence the risk of developing acquired cystic kidney disease?',\n",
       "  'What are the potential outcomes for individuals diagnosed with end-stage kidney disease in relation to acquired cystic kidney disease?']}"
      ]
     },
     "execution_count": 13,
     "metadata": {},
     "output_type": "execute_result"
    }
   ],
   "source": [
    "questions = llm(prompt)\n",
    "json.loads(questions)"
   ]
  },
  {
   "cell_type": "code",
   "execution_count": 14,
   "metadata": {},
   "outputs": [],
   "source": [
    "# Function that sends a request to the OpenAI API to generate questions based on the formatted prompt.\n",
    "\n",
    "def generate_questions(doc):\n",
    "    prompt = prompt_template.format(**doc)\n",
    "\n",
    "    response = client.chat.completions.create(\n",
    "        model='gpt-4o-mini',\n",
    "        messages=[{\"role\": \"user\", \"content\": prompt}]\n",
    "    )\n",
    "\n",
    "    json_response = response.choices[0].message.content\n",
    "    return json_response"
   ]
  },
  {
   "cell_type": "code",
   "execution_count": 15,
   "metadata": {},
   "outputs": [],
   "source": [
    "results = {}"
   ]
  },
  {
   "cell_type": "code",
   "execution_count": 16,
   "metadata": {},
   "outputs": [
    {
     "data": {
      "application/vnd.jupyter.widget-view+json": {
       "model_id": "fba8b33c7c5e44f0bf0c887023cbbd14",
       "version_major": 2,
       "version_minor": 0
      },
      "text/plain": [
       "  0%|          | 0/292 [00:00<?, ?it/s]"
      ]
     },
     "metadata": {},
     "output_type": "display_data"
    }
   ],
   "source": [
    "results = {}\n",
    "for doc in tqdm(documents): \n",
    "    doc_id = doc['id']\n",
    "    if doc_id in results:\n",
    "        continue\n",
    "\n",
    "    questions_raw = generate_questions(doc)\n",
    "    questions = json.loads(questions_raw)\n",
    "    results[doc_id] = questions['questions']"
   ]
  },
  {
   "cell_type": "code",
   "execution_count": 17,
   "metadata": {},
   "outputs": [],
   "source": [
    "final_results = []\n",
    "\n",
    "for doc_id, questions in results.items():\n",
    "    for q in questions:\n",
    "        final_results.append((doc_id, q))"
   ]
  },
  {
   "cell_type": "code",
   "execution_count": 18,
   "metadata": {},
   "outputs": [
    {
     "data": {
      "text/plain": [
       "('c0c79b2c',\n",
       " 'What are the main characteristics associated with 22q11.2 deletion syndrome?')"
      ]
     },
     "execution_count": 18,
     "metadata": {},
     "output_type": "execute_result"
    }
   ],
   "source": [
    "final_results[5]"
   ]
  },
  {
   "cell_type": "code",
   "execution_count": 21,
   "metadata": {},
   "outputs": [],
   "source": [
    "# Save the results to a csv \n",
    "\n",
    "df_results = pd.DataFrame(final_results, columns=['id', 'question'])\n",
    "df_results.to_csv('../data/ground-truth-retrieval.csv', index=False)"
   ]
  },
  {
   "cell_type": "code",
   "execution_count": 26,
   "metadata": {},
   "outputs": [
    {
     "name": "stdout",
     "output_type": "stream",
     "text": [
      "12e7a764,What specific mutations are responsible for the complete form of X-linked congenital stationary night blindness?\n",
      "12e7a764,How do the NYX and CACNA1F proteins function within the retina?\n",
      "12e7a764,\"What roles do rods and cones play in vision, particularly in relation to X-linked congenital stationary night blindness?\"\n",
      "12e7a764,How does the transmission of visual signals get disrupted in patients with this condition?\n",
      "12e7a764,What are the differences in the effects on rods and cones between the complete and incomplete forms of X-linked congenital stationary night blindness?\n",
      "3dfff330,What is the prevalence of Zollinger-Ellison Syndrome in the general population?\n",
      "3dfff330,Are there specific age groups or demographics that are more likely to develop Zollinger-Ellison Syndrome?\n",
      "3dfff330,Does having a family history of MEN1 increase the risk of Zollinger-Ellison Syndrome?\n",
      "3dfff330,Is Zollinger-Ellison Syndrome more common in men or women?\n",
      "3dfff330,What is the estimated occurrence of Zollinger-Ellison Syndrome per million people?\n"
     ]
    }
   ],
   "source": [
    "!tail ../data/ground-truth-retrieval.csv"
   ]
  }
 ],
 "metadata": {
  "kernelspec": {
   "display_name": "Python 3 (ipykernel)",
   "language": "python",
   "name": "python3"
  },
  "language_info": {
   "codemirror_mode": {
    "name": "ipython",
    "version": 3
   },
   "file_extension": ".py",
   "mimetype": "text/x-python",
   "name": "python",
   "nbconvert_exporter": "python",
   "pygments_lexer": "ipython3",
   "version": "3.10.11"
  }
 },
 "nbformat": 4,
 "nbformat_minor": 4
}
