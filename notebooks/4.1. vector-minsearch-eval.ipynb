{
 "cells": [
  {
   "cell_type": "code",
   "execution_count": 24,
   "metadata": {},
   "outputs": [],
   "source": [
    "# Import libraries\n",
    "\n",
    "import pandas as pd\n",
    "import json\n",
    "from sentence_transformers import SentenceTransformer\n",
    "import minsearch2\n",
    "from tqdm.autonotebook import tqdm\n",
    "\n",
    "import warnings\n",
    "warnings.filterwarnings(\"ignore\")"
   ]
  },
  {
   "cell_type": "code",
   "execution_count": 3,
   "metadata": {},
   "outputs": [],
   "source": [
    "# Read JSON document with generated ids\n",
    "with open('..\\data\\data-with-ids.json', 'rt') as f_in:\n",
    "    documents = json.load(f_in)\n",
    "\n",
    "# Load generated ground truth data\n",
    "df_questions = pd.read_csv('..\\data\\ground-truth-retrieval.csv')\n",
    "ground_truth = df_questions.to_dict(orient='records')"
   ]
  },
  {
   "cell_type": "code",
   "execution_count": 4,
   "metadata": {},
   "outputs": [],
   "source": [
    "doc_idx = {d['id']: d for d in documents}"
   ]
  },
  {
   "cell_type": "code",
   "execution_count": 5,
   "metadata": {},
   "outputs": [],
   "source": [
    "# Define model to use for embeddings\n",
    "model_name = 'multi-qa-MiniLM-L6-cos-v1'\n",
    "model = SentenceTransformer(model_name)"
   ]
  },
  {
   "cell_type": "code",
   "execution_count": 40,
   "metadata": {},
   "outputs": [
    {
     "data": {
      "application/vnd.jupyter.widget-view+json": {
       "model_id": "b5c3c06945914e99ad62e6d5c984c173",
       "version_major": 2,
       "version_minor": 0
      },
      "text/plain": [
       "  0%|          | 0/292 [00:00<?, ?it/s]"
      ]
     },
     "metadata": {},
     "output_type": "display_data"
    }
   ],
   "source": [
    "# Define text fields with combinations\n",
    "text_fields = ['question', 'answer', 'source', 'focus_area', 'question_answer', 'question_answer_focus', 'question_focus', 'answer_focus']\n",
    "\n",
    "# Create combined fields in the documents\n",
    "for doc in documents:\n",
    "    doc['question_answer'] = doc['question'] + \" \" + doc['answer']\n",
    "    doc['question_answer_focus'] = doc['question'] + \" \" + doc['answer'] + \" \" + doc['focus_area']\n",
    "    doc['question_focus'] = doc['question'] + \" \" + doc['focus_area']\n",
    "    doc['answer_focus'] = doc['answer'] + \" \" + doc['focus_area']"
   ]
  },
  {
   "cell_type": "code",
   "execution_count": 42,
   "metadata": {},
   "outputs": [
    {
     "data": {
      "text/plain": [
       "<minsearch2.Index at 0x24d40c36350>"
      ]
     },
     "execution_count": 42,
     "metadata": {},
     "output_type": "execute_result"
    }
   ],
   "source": [
    "# Create the index using the modified minsearch function and fit documents\n",
    "index = minsearch2.Index(text_fields=text_fields, keyword_fields=['id'])\n",
    "encoded_vectors = {field: [model.encode(doc[field]) for doc in documents] for field in text_fields} #generate embeddings\n",
    "\n",
    "index.fit(documents, encoded_vectors)"
   ]
  },
  {
   "cell_type": "code",
   "execution_count": 43,
   "metadata": {},
   "outputs": [],
   "source": [
    "# Search function\n",
    "def minsearch_search(field, query_vector):\n",
    "    boost = {field: 1}\n",
    "    query = {field: query_vector}\n",
    "    results = index.search(\n",
    "        query_vectors=query,\n",
    "        filter_dict={},\n",
    "        boost_dict=boost,\n",
    "        num_results=10\n",
    "    )\n",
    "    return results"
   ]
  },
  {
   "cell_type": "code",
   "execution_count": 9,
   "metadata": {},
   "outputs": [],
   "source": [
    "# Hit rate\n",
    "def hit_rate(relevance_total):\n",
    "    cnt = 0\n",
    "\n",
    "    for line in relevance_total:\n",
    "        if True in line:\n",
    "            cnt = cnt + 1\n",
    "\n",
    "    return cnt / len(relevance_total)\n",
    "\n",
    "# mrr\n",
    "def mrr(relevance_total):\n",
    "    total_score = 0.0\n",
    "\n",
    "    for line in relevance_total:\n",
    "        for rank in range(len(line)):\n",
    "            if line[rank]:  # If relevant document found\n",
    "                total_score += 1 / (rank + 1)\n",
    "                break\n",
    "\n",
    "    return total_score / len(relevance_total)"
   ]
  },
  {
   "cell_type": "code",
   "execution_count": 10,
   "metadata": {},
   "outputs": [],
   "source": [
    "# Evaluate the performance\n",
    "def evaluate(ground_truth, search_function):\n",
    "    relevance_total = []\n",
    "\n",
    "    for q in tqdm(ground_truth):\n",
    "        doc_id = q['id']\n",
    "        results = search_function(q)\n",
    "        relevance = [d['id'] == doc_id for d in results]\n",
    "        relevance_total.append(relevance)\n",
    "\n",
    "    return {\n",
    "        'hit_rate': hit_rate(relevance_total),\n",
    "        'mrr': mrr(relevance_total),\n",
    "    }"
   ]
  },
  {
   "cell_type": "code",
   "execution_count": 44,
   "metadata": {},
   "outputs": [
    {
     "data": {
      "application/vnd.jupyter.widget-view+json": {
       "model_id": "aba3971c4db04a44b5af5ef59b8ef50b",
       "version_major": 2,
       "version_minor": 0
      },
      "text/plain": [
       "  0%|          | 0/1460 [00:00<?, ?it/s]"
      ]
     },
     "metadata": {},
     "output_type": "display_data"
    },
    {
     "data": {
      "text/plain": [
       "{'hit_rate': 0.9732876712328767, 'mrr': 0.9361934659708627}"
      ]
     },
     "execution_count": 44,
     "metadata": {},
     "output_type": "execute_result"
    }
   ],
   "source": [
    "def question_vector_knn(q):\n",
    "    question = q['question']\n",
    "    v_q = model.encode(question)\n",
    "    return minsearch_search('question', v_q)\n",
    "\n",
    "# Evaluation\n",
    "evaluate(ground_truth, question_vector_knn)"
   ]
  },
  {
   "cell_type": "markdown",
   "metadata": {},
   "source": [
    "Combine all the KNN functions"
   ]
  },
  {
   "cell_type": "code",
   "execution_count": 51,
   "metadata": {},
   "outputs": [],
   "source": [
    "def vector_knn(q, field):\n",
    "    question = q['question']\n",
    "    v_q = model.encode(question)\n",
    "    return minsearch_search(field, v_q)\n",
    "\n",
    "# Question only\n",
    "def question_vector_knn(q):\n",
    "    return vector_knn(q, 'question')\n",
    "    \n",
    "# Answer only\n",
    "def answer_vector_knn(q):\n",
    "    return vector_knn(q, 'answer')\n",
    "\n",
    "# Question and Answer\n",
    "def question_answer_vector_knn(q):\n",
    "    return vector_knn(q, 'question_answer')\n",
    "\n",
    "# Question, Answer and Focus area\n",
    "def question_answer_focus_vector_knn(q):\n",
    "    return vector_knn(q, 'question_answer_focus')\n",
    "\n",
    "# Question and Focus area\n",
    "def question_focus_vector_knn(q):\n",
    "    return vector_knn(q, 'question_focus')\n",
    "\n",
    "# Answer and Focus area\n",
    "def answer_focus_vector_knn(q):\n",
    "    return vector_knn(q, 'answer_focus')"
   ]
  },
  {
   "cell_type": "markdown",
   "metadata": {},
   "source": [
    "#### **Vector Evaluation Results**"
   ]
  },
  {
   "cell_type": "code",
   "execution_count": null,
   "metadata": {},
   "outputs": [],
   "source": [
    "def run_evaluations(ground_truth):\n",
    "    results = {}\n",
    "\n",
    "    results['question_vector'] = evaluate(ground_truth, question_vector_knn)\n",
    "    results['answer_vector'] = evaluate(ground_truth, answer_vector_knn)\n",
    "    results['question_answer_vector'] = evaluate(ground_truth, question_answer_vector_knn)\n",
    "    results['question_answer_focus_vector'] = evaluate(ground_truth, question_answer_focus_vector_knn)\n",
    "    results['question_focus_vector'] = evaluate(ground_truth, question_focus_vector_knn)\n",
    "    results['answer_focus_vector'] = evaluate(ground_truth, answer_focus_vector_knn)\n",
    "    \n",
    "    return results"
   ]
  },
  {
   "cell_type": "code",
   "execution_count": 55,
   "metadata": {},
   "outputs": [
    {
     "data": {
      "application/vnd.jupyter.widget-view+json": {
       "model_id": "c01e3c9278aa408aa1bcae1de96280d0",
       "version_major": 2,
       "version_minor": 0
      },
      "text/plain": [
       "  0%|          | 0/1460 [00:00<?, ?it/s]"
      ]
     },
     "metadata": {},
     "output_type": "display_data"
    },
    {
     "data": {
      "application/vnd.jupyter.widget-view+json": {
       "model_id": "ad0e604ea511425c8fbbacaf7a77f0f0",
       "version_major": 2,
       "version_minor": 0
      },
      "text/plain": [
       "  0%|          | 0/1460 [00:00<?, ?it/s]"
      ]
     },
     "metadata": {},
     "output_type": "display_data"
    },
    {
     "data": {
      "application/vnd.jupyter.widget-view+json": {
       "model_id": "5cfee13232264f9c8b2b23b6c8514f30",
       "version_major": 2,
       "version_minor": 0
      },
      "text/plain": [
       "  0%|          | 0/1460 [00:00<?, ?it/s]"
      ]
     },
     "metadata": {},
     "output_type": "display_data"
    },
    {
     "data": {
      "application/vnd.jupyter.widget-view+json": {
       "model_id": "59ee6bd18cce459b8b8251eb249fce80",
       "version_major": 2,
       "version_minor": 0
      },
      "text/plain": [
       "  0%|          | 0/1460 [00:00<?, ?it/s]"
      ]
     },
     "metadata": {},
     "output_type": "display_data"
    },
    {
     "data": {
      "application/vnd.jupyter.widget-view+json": {
       "model_id": "62cdab3e16f645e980406f61644be77d",
       "version_major": 2,
       "version_minor": 0
      },
      "text/plain": [
       "  0%|          | 0/1460 [00:00<?, ?it/s]"
      ]
     },
     "metadata": {},
     "output_type": "display_data"
    },
    {
     "data": {
      "application/vnd.jupyter.widget-view+json": {
       "model_id": "5b61906d7d4841899e42d71f1e229821",
       "version_major": 2,
       "version_minor": 0
      },
      "text/plain": [
       "  0%|          | 0/1460 [00:00<?, ?it/s]"
      ]
     },
     "metadata": {},
     "output_type": "display_data"
    },
    {
     "name": "stdout",
     "output_type": "stream",
     "text": [
      "Evaluation Results Sorted by Hit Rate:\n",
      "question_answer_vector: Hit Rate: 0.9925, MRR: 0.9561\n",
      "question_answer_focus_vector: Hit Rate: 0.9911, MRR: 0.9518\n",
      "answer_focus_vector: Hit Rate: 0.9904, MRR: 0.9353\n",
      "answer_vector: Hit Rate: 0.9788, MRR: 0.9050\n",
      "question_vector: Hit Rate: 0.9733, MRR: 0.9362\n",
      "question_focus_vector: Hit Rate: 0.9705, MRR: 0.9262\n"
     ]
    }
   ],
   "source": [
    "def print_evaluation_results(results, sort_by='hit_rate'):\n",
    "    sorted_results = sorted(\n",
    "        results.items(), \n",
    "        key=lambda item: item[1][sort_by], \n",
    "        reverse=True\n",
    "    )\n",
    "\n",
    "    for knn_type, metrics in sorted_results:\n",
    "        print(f\"{knn_type}: Hit Rate: {metrics['hit_rate']:.4f}, MRR: {metrics['mrr']:.4f}\")\n",
    "\n",
    "\n",
    "results = run_evaluations(ground_truth)\n",
    "# Print results sorted by 'hit_rate'\n",
    "print(\"Evaluation Results Sorted by Hit Rate:\")\n",
    "print_evaluation_results(results, sort_by='hit_rate')"
   ]
  },
  {
   "cell_type": "markdown",
   "metadata": {},
   "source": [
    "Combination of the question and answer vectors produce the highest results of both the hit rate and mrr."
   ]
  },
  {
   "cell_type": "markdown",
   "metadata": {},
   "source": [
    "Vector search has better results than text search."
   ]
  }
 ],
 "metadata": {
  "kernelspec": {
   "display_name": "Python 3 (ipykernel)",
   "language": "python",
   "name": "python3"
  },
  "language_info": {
   "codemirror_mode": {
    "name": "ipython",
    "version": 3
   },
   "file_extension": ".py",
   "mimetype": "text/x-python",
   "name": "python",
   "nbconvert_exporter": "python",
   "pygments_lexer": "ipython3",
   "version": "3.10.11"
  }
 },
 "nbformat": 4,
 "nbformat_minor": 4
}
